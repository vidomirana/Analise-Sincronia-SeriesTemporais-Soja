{
 "cells": [
  {
   "cell_type": "code",
   "execution_count": 1,
   "metadata": {},
   "outputs": [],
   "source": [
    "from statsmodels.tsa.stattools import adfuller, kpss\n",
    "import pandas as pd\n",
    "from scipy.signal import hilbert\n",
    "import numpy as np\n",
    "from statsmodels.graphics.tsaplots import plot_acf, plot_pacf\n",
    "from statsmodels.tsa.seasonal import seasonal_decompose\n",
    "import matplotlib.pyplot as plt"
   ]
  },
  {
   "cell_type": "code",
   "execution_count": 2,
   "metadata": {},
   "outputs": [],
   "source": [
    "def preenche_anterior(df, coluna):\n",
    "    for nan in range(0, df[coluna].isna().sum()):\n",
    "        nulo = df[df[coluna].isna()==True].index[0]\n",
    "        anterior = df[coluna].loc[:nulo].dropna().index[-1]\n",
    "        anterior = anterior.to_pydatetime()  #converte o objeto Timestamp em um Datetime\n",
    "        anterior = anterior.strftime('%Y-%m-%d')\n",
    "        nulo = nulo.to_pydatetime()\n",
    "        nulo = nulo.strftime('%Y-%m-%d')\n",
    "        df[coluna].loc[nulo] = df[coluna].loc[anterior]\n",
    "    return df"
   ]
  },
  {
   "cell_type": "code",
   "execution_count": 3,
   "metadata": {},
   "outputs": [],
   "source": [
    "def adf_test(timeseries):\n",
    "    print(\"Results of Dickey-Fuller Test:\")\n",
    "    dftest = adfuller(timeseries, autolag=\"AIC\")\n",
    "    dfoutput = pd.Series(\n",
    "        dftest[0:4],\n",
    "        index=[\n",
    "            \"Test Statistic\",\n",
    "            \"p-value\",\n",
    "            \"#Lags Used\",\n",
    "            \"Number of Observations Used\",\n",
    "        ],\n",
    "    )\n",
    "    for key, value in dftest[4].items():\n",
    "        dfoutput[f\"Critical Value ({key})\"] = value\n",
    "    print('Série estacionária se p-value < 0.05')\n",
    "    print('====================================')\n",
    "    print(dfoutput)"
   ]
  },
  {
   "cell_type": "code",
   "execution_count": 4,
   "metadata": {},
   "outputs": [],
   "source": [
    "def kpss_test(x, h0_type='c'):\n",
    "  indices = ['Estatística do teste', 'valor-p', '# de Lags']\n",
    "  kpss_test = kpss(x, regression=h0_type, nlags=\"legacy\")\n",
    "  results = pd.Series(kpss_test[0:3], index=indices)\n",
    "  for key, value in kpss_test[3].items():\n",
    "    results[f'Critical Value ({key})'] = value\n",
    "  print('Série estacionária se p-value > 0.05')\n",
    "  print('====================================')\n",
    "  return results"
   ]
  },
  {
   "cell_type": "code",
   "execution_count": 5,
   "metadata": {},
   "outputs": [],
   "source": [
    "def fases_hilbert_transform(time_series):\n",
    "  ang = np.angle(hilbert(time_series, axis=0))\n",
    "  return np.mod(ang, 2*np.pi) #retorna ângulo entre 0 e 2pi"
   ]
  },
  {
   "cell_type": "code",
   "execution_count": 6,
   "metadata": {},
   "outputs": [],
   "source": [
    "def plot_picos_acf_pacf(data):\n",
    "    # Calcular a função de autocorrelação\n",
    "    fig, ax = plt.subplots(2, 1, figsize=(12, 8))\n",
    "\n",
    "    # Plotar a função de autocorrelação (ACF)\n",
    "    plot_acf(data, lags=300, ax=ax[0])\n",
    "    ax[0].set_title('Função de Autocorrelação')\n",
    "\n",
    "    # Plotar a função de autocorrelação parcial (PACF)\n",
    "    plot_pacf(data, lags=300, ax=ax[1])\n",
    "    ax[1].set_title('Função de Autocorrelação Parcial')\n",
    "    plt.show()\n",
    "\n",
    "    # Calcular os valores da autocorrelação e os intervalos de confiança\n",
    "    acf_values = ax[0].lines[0].get_ydata()\n",
    "    conf_intervals = np.concatenate([path.vertices[:, 1] for path in ax[0].collections[1].get_paths()])\n",
    "\n",
    "    # Identificar picos na ACF\n",
    "    acf_peaks = np.where(acf_values > conf_intervals)[0]\n",
    "    print(\"Picos na ACF:\", acf_peaks)\n",
    "\n",
    "    # Identificar picos na PACF\n",
    "    pacf_values, _ = ax[1].lines[0].get_ydata(), ax[1].collections[1].get_segments()[0][:, 1]\n",
    "    pacf_peaks = np.where(pacf_values > 0.1)[0]  # Ajuste o limiar conforme necessário\n",
    "    print(\"Picos na PACF:\", pacf_peaks)"
   ]
  },
  {
   "cell_type": "code",
   "execution_count": 7,
   "metadata": {},
   "outputs": [],
   "source": [
    "# Função para remover tendência das séries\n",
    "def remove_trend(serie, tipo):\n",
    "  if tipo == 1:\n",
    "    decomp = seasonal_decompose(serie, model='additive',period=252)\n",
    "    result = decomp.seasonal + decomp.resid\n",
    "  elif tipo == 2:\n",
    "    decomp = seasonal_decompose(serie, model='multiplicative',period=252)\n",
    "    result = decomp.seasonal * decomp.resid\n",
    "  else:\n",
    "    print(\"Tipo inválido\")\n",
    "  return result"
   ]
  },
  {
   "cell_type": "code",
   "execution_count": 8,
   "metadata": {},
   "outputs": [],
   "source": [
    "def dinamica_fases_plot(df):\n",
    "    N = len(df.columns)\n",
    "    theta_t = fases_hilbert_transform(df)\n",
    "    #theta_t = fases_hilbert_transform(retornos_df)\n",
    "    r = np.sqrt( np.sum(np.cos(theta_t), axis=1)**2 + np.sum(np.sin(theta_t), axis=1)**2 ) / N\n",
    "\n",
    "    f, ax = plt.subplots(3, 1, figsize=(14,8), sharex=True)\n",
    "    ax[0].set(ylim=[0,2.1*np.pi], ylabel=r'$\\theta_i$',title='Dinâmica das fases')\n",
    "    for i in range(0,N):\n",
    "        ax[0].plot(theta_t[:, i], label=r'$\\theta_{%d}$' % (i+1))\n",
    "        ax[0].legend()\n",
    "\n",
    "    ax[1].set(ylabel=r'$\\sin(\\theta_i)$')\n",
    "    for i in range(0,N):\n",
    "        ax[1].plot(np.sin(theta_t[:, i]), label=r'$\\sin(\\theta_{%d})$' % (i+1))\n",
    "        ax[1].legend()\n",
    "\n",
    "    ax[2].set(ylim=[0.97,1.01],xlim=[0,len(r)],title='Sincronização de fases instantâneas',xlabel='Tempo',ylabel='Parâmetro de ordem')\n",
    "    ax[2].plot(r)\n",
    "    plt.tight_layout()\n",
    "    plt.show()"
   ]
  }
 ],
 "metadata": {
  "kernelspec": {
   "display_name": "Python 3",
   "language": "python",
   "name": "python3"
  },
  "language_info": {
   "codemirror_mode": {
    "name": "ipython",
    "version": 3
   },
   "file_extension": ".py",
   "mimetype": "text/x-python",
   "name": "python",
   "nbconvert_exporter": "python",
   "pygments_lexer": "ipython3",
   "version": "3.12.0"
  }
 },
 "nbformat": 4,
 "nbformat_minor": 2
}
