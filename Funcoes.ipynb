{
 "cells": [
  {
   "cell_type": "code",
   "execution_count": 4,
   "metadata": {},
   "outputs": [],
   "source": [
    "from statsmodels.tsa.stattools import adfuller, kpss\n",
    "import pandas as pd"
   ]
  },
  {
   "cell_type": "code",
   "execution_count": 5,
   "metadata": {},
   "outputs": [],
   "source": [
    "def adf_test(timeseries):\n",
    "    print(\"Results of Dickey-Fuller Test:\")\n",
    "    dftest = adfuller(timeseries, autolag=\"AIC\")\n",
    "    dfoutput = pd.Series(\n",
    "        dftest[0:4],\n",
    "        index=[\n",
    "            \"Test Statistic\",\n",
    "            \"p-value\",\n",
    "            \"#Lags Used\",\n",
    "            \"Number of Observations Used\",\n",
    "        ],\n",
    "    )\n",
    "    for key, value in dftest[4].items():\n",
    "        dfoutput[f\"Critical Value ({key})\"] = value\n",
    "    print('Série estacionária se p-value < 0.05')\n",
    "    print('====================================')\n",
    "    print(dfoutput)"
   ]
  },
  {
   "cell_type": "code",
   "execution_count": 6,
   "metadata": {},
   "outputs": [],
   "source": [
    "def kpss_test(x, h0_type='c'):\n",
    "  indices = ['Estatística do teste', 'valor-p', '# de Lags']\n",
    "  kpss_test = kpss(x, regression=h0_type, nlags=\"legacy\")\n",
    "  results = pd.Series(kpss_test[0:3], index=indices)\n",
    "  for key, value in kpss_test[3].items():\n",
    "    results[f'Critical Value ({key})'] = value\n",
    "  print('Série estacionária se p-value > 0.05')\n",
    "  print('====================================')\n",
    "  return results"
   ]
  },
  {
   "cell_type": "code",
   "execution_count": null,
   "metadata": {},
   "outputs": [],
   "source": [
    "from scipy.signal import hilbert\n",
    "import numpy as np\n",
    "def fases_hilbert_transform(time_series):\n",
    "  ang = np.angle(hilbert(time_series, axis=0))\n",
    "  return np.mod(ang, 2*np.pi) #retorna ângulo entre 0 e 2pi"
   ]
  },
  {
   "cell_type": "code",
   "execution_count": null,
   "metadata": {},
   "outputs": [],
   "source": [
    "from statsmodels.graphics.tsaplots import plot_acf, plot_pacf\n",
    "\n",
    "def plot_picos_acf_pacf(data):\n",
    "    # Calcular a função de autocorrelação\n",
    "    fig, ax = plt.subplots(2, 1, figsize=(12, 8))\n",
    "\n",
    "    # Plotar a função de autocorrelação (ACF)\n",
    "    plot_acf(data, lags=300, ax=ax[0])\n",
    "    ax[0].set_title('Função de Autocorrelação')\n",
    "\n",
    "    # Plotar a função de autocorrelação parcial (PACF)\n",
    "    plot_pacf(data, lags=300, ax=ax[1])\n",
    "    ax[1].set_title('Função de Autocorrelação Parcial')\n",
    "    plt.show()\n",
    "\n",
    "    # Calcular os valores da autocorrelação e os intervalos de confiança\n",
    "    acf_values = ax[0].lines[0].get_ydata()\n",
    "    conf_intervals = np.concatenate([path.vertices[:, 1] for path in ax[0].collections[1].get_paths()])\n",
    "\n",
    "    # Identificar picos na ACF\n",
    "    acf_peaks = np.where(acf_values > conf_intervals)[0]\n",
    "    print(\"Picos na ACF:\", acf_peaks)\n",
    "\n",
    "    # Identificar picos na PACF\n",
    "    pacf_values, _ = ax[1].lines[0].get_ydata(), ax[1].collections[1].get_segments()[0][:, 1]\n",
    "    pacf_peaks = np.where(pacf_values > 0.1)[0]  # Ajuste o limiar conforme necessário\n",
    "    print(\"Picos na PACF:\", pacf_peaks)"
   ]
  },
  {
   "cell_type": "code",
   "execution_count": null,
   "metadata": {},
   "outputs": [],
   "source": [
    "from statsmodels.tsa.seasonal import seasonal_decompose\n",
    "\n",
    "# Função para remover tendência das séries\n",
    "def remove_trend(serie, tipo):\n",
    "  if tipo == 1:\n",
    "    decomp = seasonal_decompose(serie, model='additive',period=252)\n",
    "    result = decomp.seasonal + decomp.resid\n",
    "  elif tipo == 2:\n",
    "    decomp = seasonal_decompose(serie, model='multiplicative',period=252)\n",
    "    result = decomp.seasonal * decomp.resid\n",
    "  else:\n",
    "    print(\"Tipo inválido\")\n",
    "  return result"
   ]
  }
 ],
 "metadata": {
  "kernelspec": {
   "display_name": "Python 3",
   "language": "python",
   "name": "python3"
  },
  "language_info": {
   "codemirror_mode": {
    "name": "ipython",
    "version": 3
   },
   "file_extension": ".py",
   "mimetype": "text/x-python",
   "name": "python",
   "nbconvert_exporter": "python",
   "pygments_lexer": "ipython3",
   "version": "3.12.0"
  }
 },
 "nbformat": 4,
 "nbformat_minor": 2
}
