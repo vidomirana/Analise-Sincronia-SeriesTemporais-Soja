{
  "cells": [
    {
      "cell_type": "code",
      "execution_count": 1,
      "metadata": {
        "colab": {
          "base_uri": "https://localhost:8080/"
        },
        "id": "30vRZg72E44Z",
        "outputId": "b474a17f-1bac-45c7-b273-aed3a99a9e66"
      },
      "outputs": [
        {
          "name": "stdout",
          "output_type": "stream",
          "text": [
            "Estatística do teste de Dickey-Fuller: -4.55622715609802\n",
            "Valor p: 0.00015541638138119354\n"
          ]
        }
      ],
      "source": [
        "import statsmodels.api as sm\n",
        "from statsmodels.tsa.stattools import adfuller\n",
        "import numpy as np\n",
        "\n",
        "# Exemplo de teste Dickey-Fuller\n",
        "data = np.random.rand(100)\n",
        "result = adfuller(data)\n",
        "print('Estatística do teste de Dickey-Fuller:', result[0])\n",
        "print('Valor p:', result[1])"
      ]
    },
    {
      "cell_type": "code",
      "execution_count": 2,
      "metadata": {
        "colab": {
          "base_uri": "https://localhost:8080/"
        },
        "id": "ntItZQzPFGOn",
        "outputId": "d059b231-58dc-4e83-a33b-19110c14c33f"
      },
      "outputs": [
        {
          "data": {
            "text/plain": [
              "array([0.93153491, 0.20804182, 0.78447878, 0.30184251, 0.67441032,\n",
              "       0.02137932, 0.38075567, 0.25618947, 0.13894642, 0.80672239,\n",
              "       0.91702053, 0.69337745, 0.58147796, 0.37687914, 0.3712096 ,\n",
              "       0.61514149, 0.80278216, 0.51639236, 0.65477946, 0.88416339,\n",
              "       0.1604594 , 0.55335894, 0.64217839, 0.35377306, 0.99347   ,\n",
              "       0.44274022, 0.02182467, 0.93332558, 0.82595504, 0.28993063,\n",
              "       0.51821955, 0.92925453, 0.35413458, 0.22446375, 0.93147802,\n",
              "       0.41515781, 0.96614483, 0.45973275, 0.12880539, 0.45001604,\n",
              "       0.04209087, 0.78779502, 0.80139003, 0.11756946, 0.21861199,\n",
              "       0.46819093, 0.14795113, 0.43764243, 0.47546252, 0.83837303,\n",
              "       0.64312655, 0.30292621, 0.20947561, 0.65109324, 0.16567133,\n",
              "       0.33482221, 0.56459272, 0.01079581, 0.24359446, 0.92147631,\n",
              "       0.03782254, 0.58813765, 0.91407878, 0.41898096, 0.59039237,\n",
              "       0.56733622, 0.29926902, 0.88282644, 0.93159462, 0.66857819,\n",
              "       0.76343156, 0.98717066, 0.49534203, 0.69855514, 0.23764872,\n",
              "       0.8898853 , 0.74428362, 0.21422052, 0.57714998, 0.69713884,\n",
              "       0.46090307, 0.5880283 , 0.6659518 , 0.61532563, 0.52435234,\n",
              "       0.88420089, 0.54829745, 0.65303041, 0.18476922, 0.37267534,\n",
              "       0.68612176, 0.88191217, 0.80233302, 0.47110733, 0.16670033,\n",
              "       0.4617675 , 0.07225449, 0.01367015, 0.62003593, 0.02156509])"
            ]
          },
          "execution_count": 2,
          "metadata": {},
          "output_type": "execute_result"
        }
      ],
      "source": [
        "data"
      ]
    },
    {
      "cell_type": "code",
      "execution_count": 3,
      "metadata": {
        "colab": {
          "base_uri": "https://localhost:8080/"
        },
        "id": "I1lvBjw3FKml",
        "outputId": "6f5f1011-d0c2-4668-eb13-57214712bd3e"
      },
      "outputs": [
        {
          "data": {
            "text/plain": [
              "(-4.55622715609802,\n",
              " 0.00015541638138119354,\n",
              " 3,\n",
              " 96,\n",
              " {'1%': -3.5003788874873405,\n",
              "  '5%': -2.8921519665075235,\n",
              "  '10%': -2.5830997960069446},\n",
              " 20.7196848374399)"
            ]
          },
          "execution_count": 3,
          "metadata": {},
          "output_type": "execute_result"
        }
      ],
      "source": [
        "result"
      ]
    }
  ],
  "metadata": {
    "colab": {
      "provenance": []
    },
    "kernelspec": {
      "display_name": "Python 3",
      "name": "python3"
    },
    "language_info": {
      "codemirror_mode": {
        "name": "ipython",
        "version": 3
      },
      "file_extension": ".py",
      "mimetype": "text/x-python",
      "name": "python",
      "nbconvert_exporter": "python",
      "pygments_lexer": "ipython3",
      "version": "3.12.0"
    }
  },
  "nbformat": 4,
  "nbformat_minor": 0
}
