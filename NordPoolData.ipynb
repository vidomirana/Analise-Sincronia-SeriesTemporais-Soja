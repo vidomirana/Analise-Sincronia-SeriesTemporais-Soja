{
 "cells": [
  {
   "cell_type": "code",
   "execution_count": 4,
   "metadata": {},
   "outputs": [
    {
     "ename": "SyntaxError",
     "evalue": "positional argument follows keyword argument (2048560840.py, line 4)",
     "output_type": "error",
     "traceback": [
      "\u001b[1;36m  Cell \u001b[1;32mIn[4], line 4\u001b[1;36m\u001b[0m\n\u001b[1;33m    nordpool = pd.read_csv(r'C:\\Users\\Lenovo\\Documents\\MeusProjetos\\Analise-Sincronia-SeriesTemporais-Soja\\NP.csv', usecols=['Price'], ['Date'])\u001b[0m\n\u001b[1;37m                                                                                                                                               ^\u001b[0m\n\u001b[1;31mSyntaxError\u001b[0m\u001b[1;31m:\u001b[0m positional argument follows keyword argument\n"
     ]
    }
   ],
   "source": [
    "import pandas as pd\n",
    "import numpy as np\n",
    "\n",
    "nordpool = pd.read_csv(r'C:\\Users\\Lenovo\\Documents\\MeusProjetos\\Analise-Sincronia-SeriesTemporais-Soja\\NP.csv', usecols=['Price'], ['Date'])\n",
    "\n",
    "nordpool"
   ]
  }
 ],
 "metadata": {
  "kernelspec": {
   "display_name": "Python 3",
   "language": "python",
   "name": "python3"
  },
  "language_info": {
   "codemirror_mode": {
    "name": "ipython",
    "version": 3
   },
   "file_extension": ".py",
   "mimetype": "text/x-python",
   "name": "python",
   "nbconvert_exporter": "python",
   "pygments_lexer": "ipython3",
   "version": "3.12.0"
  }
 },
 "nbformat": 4,
 "nbformat_minor": 2
}
